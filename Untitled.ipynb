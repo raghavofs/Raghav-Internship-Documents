{
 "cells": [
  {
   "cell_type": "code",
   "execution_count": null,
   "id": "055e340f-0769-4036-8640-4e5fa5241599",
   "metadata": {},
   "outputs": [],
   "source": [
    "from langchain.document_loaders import WikipediaLoader\n",
    "from langchain.text_splitter import RecursiveCharactersTextSplitter"
   ]
  },
  {
   "cell_type": "code",
   "execution_count": null,
   "id": "440f0fe6-fdfd-42b3-928a-6ff7fbede77b",
   "metadata": {},
   "outputs": [],
   "source": []
  }
 ],
 "metadata": {
  "kernelspec": {
   "display_name": "Python 3 (ipykernel)",
   "language": "python",
   "name": "python3"
  },
  "language_info": {
   "name": ""
  }
 },
 "nbformat": 4,
 "nbformat_minor": 5
}
